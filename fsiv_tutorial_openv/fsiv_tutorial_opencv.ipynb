{
 "cells": [
  {
   "cell_type": "markdown",
   "id": "lonely-patch",
   "metadata": {},
   "source": [
    "# Minitutorial para inicar a usar OpenCV con la interfaz de Python"
   ]
  },
  {
   "cell_type": "markdown",
   "id": "b72c92d7",
   "metadata": {},
   "source": [
    "*© 2023- F.J. Madrid Cuevas (fjmadrid@uco.es). Universidad de Córdoba. España.*"
   ]
  },
  {
   "cell_type": "markdown",
   "id": "1428e8b9",
   "metadata": {},
   "source": [
    "Versiones:\n",
    "* 1.0 25/9/2023\n",
    "    - versión inicial.\n",
    "* 1.1 26/9/2023\n",
    "    - Añadida relación de versiones.\n",
    "    - Mejorado ejemplo de captura de vídeo para salir pulsando 'ESC'.\n",
    "    - Añadidas enlaces a la documentación de funciones."
   ]
  },
  {
   "cell_type": "markdown",
   "id": "uniform-preliminary",
   "metadata": {},
   "source": [
    "## Cargar el módulo OpenCV"
   ]
  },
  {
   "cell_type": "markdown",
   "id": "silver-mirror",
   "metadata": {},
   "source": [
    "Lo primero que tienes que hacer antes que nada es cargar el módulo OpenCV."
   ]
  },
  {
   "cell_type": "code",
   "execution_count": 48,
   "id": "prescription-spotlight",
   "metadata": {},
   "outputs": [],
   "source": [
    "import cv2 as cv"
   ]
  },
  {
   "cell_type": "markdown",
   "id": "valid-discrimination",
   "metadata": {},
   "source": [
    "Puede ocurrir que de un error del tipo \"módulo no encontrado\". Para solucionar esto, primero deberemos instalar el módulo en nuestro sistema de la forma siguiente (se supone que tienes ubuntu, si tienes otra distribución o Windows adaptalo a tu sistema): "
   ]
  },
  {
   "cell_type": "markdown",
   "id": "photographic-brief",
   "metadata": {},
   "source": [
    "`apt install python3-opencv`"
   ]
  },
  {
   "cell_type": "markdown",
   "id": "drawn-coach",
   "metadata": {},
   "source": [
    "Vuelve a ejecutar el cuaderno desde el principio."
   ]
  },
  {
   "cell_type": "markdown",
   "id": "agreed-times",
   "metadata": {},
   "source": [
    "Es interesante saber la versión de opencv instalada para consultar la documentación. Podemos visualizar la versión de la forma siguiente:"
   ]
  },
  {
   "cell_type": "code",
   "execution_count": 49,
   "id": "authentic-carpet",
   "metadata": {},
   "outputs": [
    {
     "name": "stdout",
     "output_type": "stream",
     "text": [
      "4.5.1\n"
     ]
    }
   ],
   "source": [
    "print(cv.__version__)"
   ]
  },
  {
   "cell_type": "markdown",
   "id": "visible-restriction",
   "metadata": {},
   "source": [
    "## Visualizar una imagen"
   ]
  },
  {
   "cell_type": "markdown",
   "id": "dad467fe",
   "metadata": {},
   "source": [
    "### Cargar la imagen desde un fichero"
   ]
  },
  {
   "cell_type": "markdown",
   "id": "incoming-junction",
   "metadata": {},
   "source": [
    "Para visualizar una imagen, primero tendremos que obtenerla, por ejemplo cargándola desde un fichero gráfico. Para ello utilizamos la función [`cv.imread()`](https://docs.opencv.org/4.5.5/d4/da8/group__imgcodecs.html#ga288b8b3da0892bd651fce07b3bbd3a56). Lee su documentación para ver qué parámetros tiene. Nosotros vamos a cargar la imagen tal y como está en el archivo gráfico."
   ]
  },
  {
   "cell_type": "code",
   "execution_count": 50,
   "id": "dutch-orientation",
   "metadata": {},
   "outputs": [],
   "source": [
    "img = cv.imread('avion.png', cv.IMREAD_ANYCOLOR)"
   ]
  },
  {
   "cell_type": "markdown",
   "id": "mental-request",
   "metadata": {},
   "source": [
    "Puedes comprobar si la imagen no pudo ser cargada por algún error de la forma siguiente:"
   ]
  },
  {
   "cell_type": "code",
   "execution_count": 51,
   "id": "documentary-collector",
   "metadata": {},
   "outputs": [],
   "source": [
    "if img is None:\n",
    "    print('Error: la imagen no pudo ser carga')"
   ]
  },
  {
   "cell_type": "markdown",
   "id": "c39c3b15",
   "metadata": {},
   "source": [
    "### Obtener información de la representación de la imagen"
   ]
  },
  {
   "cell_type": "markdown",
   "id": "broad-stroke",
   "metadata": {},
   "source": [
    "Recuerda que la interfaz para C++, la función `cv::imread` devuelve un objeto de la clase [`cv::Mat`](https://docs.opencv.org/4.5.5/d3/d63/classcv_1_1Mat.html), mientras que la interfaz de python devuelve un objeto de la clase [`np.ndarray`](https://numpy.org/doc/stable/reference/generated/numpy.ndarray.html) del módulo python Numpy."
   ]
  },
  {
   "cell_type": "markdown",
   "id": "overall-saturday",
   "metadata": {},
   "source": [
    "Esta representa una de las pocas (aunque esta es importante) diferencias entre la interfaz C++ y Python y tendremos que aprender a adaptar las operaciones que usen métodos y atributos de la clase c++ `cv::Mat` a la clase Python `ndarray`."
   ]
  },
  {
   "cell_type": "markdown",
   "id": "adapted-block",
   "metadata": {},
   "source": [
    "Por ejemplo, la clase cv::Mat tienes dos atributos `rows` y `cols` y el método `type` para saber cómo está codificada la imagen mientras que la clase numpy.ndarray usaremos los atributos `shape` y `dtype`."
   ]
  },
  {
   "cell_type": "code",
   "execution_count": 52,
   "id": "sonic-bangladesh",
   "metadata": {},
   "outputs": [
    {
     "name": "stdout",
     "output_type": "stream",
     "text": [
      "Tamaño y canales de la imagen:  (321, 481)\n",
      "Tipo de los valores:  uint8\n"
     ]
    }
   ],
   "source": [
    "print(\"Tamaño y canales de la imagen: \", img.shape)\n",
    "print(\"Tipo de los valores: \", img.dtype)"
   ]
  },
  {
   "cell_type": "markdown",
   "id": "divine-solid",
   "metadata": {},
   "source": [
    "Vemos que la imagen tiene 321 filas y 481 valores con un canal (si no se indica canales se asume 1.) mientras que el tipo de los valores es entero sin signo de 8 bits (byte)."
   ]
  },
  {
   "cell_type": "markdown",
   "id": "43aca787",
   "metadata": {},
   "source": [
    "Vamos a cargar ahora una imagen en color."
   ]
  },
  {
   "cell_type": "code",
   "execution_count": 53,
   "id": "likely-scientist",
   "metadata": {},
   "outputs": [],
   "source": [
    "img = cv.imread('ciclista_original.jpg', cv.IMREAD_ANYCOLOR)"
   ]
  },
  {
   "cell_type": "markdown",
   "id": "81ae01d7",
   "metadata": {},
   "source": [
    "Veamos información sobre su representación:"
   ]
  },
  {
   "cell_type": "code",
   "execution_count": 54,
   "id": "c1371f57",
   "metadata": {},
   "outputs": [
    {
     "name": "stdout",
     "output_type": "stream",
     "text": [
      "Tamaño y canales de la imagen:  (418, 556, 3)\n",
      "Tipo de los valores:  uint8\n"
     ]
    }
   ],
   "source": [
    "print(\"Tamaño y canales de la imagen: \", img.shape)\n",
    "print(\"Tipo de los valores: \", img.dtype)"
   ]
  },
  {
   "cell_type": "markdown",
   "id": "a1018aaa",
   "metadata": {},
   "source": [
    "Observa ahora como la imagen tiene 3 canales (RGB)."
   ]
  },
  {
   "cell_type": "markdown",
   "id": "791857f9",
   "metadata": {},
   "source": [
    "### Visualizar la imagen"
   ]
  },
  {
   "cell_type": "markdown",
   "id": "64c8fdb1",
   "metadata": {},
   "source": [
    "Podemos usar la interfaz gráfica proporcionada por opencv para visualizar la imagen."
   ]
  },
  {
   "cell_type": "markdown",
   "id": "c628a53d",
   "metadata": {},
   "source": [
    "El primer paso será crear una ventana. Para ello usaremos la interfaz [`cv.namedWindow`](https://docs.opencv.org/4.5.5/d7/dfc/group__highgui.html#ga5afdf8410934fd099df85c75b2e0888b). Lee su documentación para ver qué parámetros puedes usar."
   ]
  },
  {
   "cell_type": "code",
   "execution_count": 55,
   "id": "431079a5",
   "metadata": {},
   "outputs": [],
   "source": [
    "cv.namedWindow('IMG')"
   ]
  },
  {
   "cell_type": "markdown",
   "id": "abd38747",
   "metadata": {},
   "source": [
    "Lo siguiente será usar la función [`cv.imshow`](https://docs.opencv.org/4.5.5/d7/dfc/group__highgui.html#ga453d42fe4cb60e5723281a89973ee563) para visualizar la imagen en la ventana"
   ]
  },
  {
   "cell_type": "code",
   "execution_count": 56,
   "id": "8a2356cb",
   "metadata": {},
   "outputs": [],
   "source": [
    "cv.imshow('IMG', img)"
   ]
  },
  {
   "cell_type": "markdown",
   "id": "71e8a0fb",
   "metadata": {},
   "source": [
    "Ya sabes que la información gráfica sólo se actualiza cuando se llama a la función [`cv.waitKey`](https://docs.opencv.org/4.5.5/d7/dfc/group__highgui.html#ga5628525ad33f52eab17feebcfba38bd7) que espera hasta que pulsemos una tecla."
   ]
  },
  {
   "cell_type": "code",
   "execution_count": 57,
   "id": "1e2a4e7a",
   "metadata": {},
   "outputs": [
    {
     "name": "stdout",
     "output_type": "stream",
     "text": [
      "Pulsada la tecla 27\n"
     ]
    }
   ],
   "source": [
    "key = cv.waitKey(0) & 0xff\n",
    "print('Pulsada la tecla', key)"
   ]
  },
  {
   "cell_type": "markdown",
   "id": "926acc42",
   "metadata": {},
   "source": [
    "Ahora podemos cerrar la ventana con la función [`cv::destroyWindow`](https://docs.opencv.org/4.5.5/d7/dfc/group__highgui.html#ga851ccdd6961022d1d5b4c4f255dbab34)"
   ]
  },
  {
   "cell_type": "code",
   "execution_count": 58,
   "id": "d59cfba4",
   "metadata": {},
   "outputs": [],
   "source": [
    "cv.destroyWindow('IMG')"
   ]
  },
  {
   "cell_type": "markdown",
   "id": "0445bd40",
   "metadata": {},
   "source": [
    "## Visualizar una fuente de vídeo"
   ]
  },
  {
   "cell_type": "markdown",
   "id": "f7111dcf",
   "metadata": {},
   "source": [
    "### Cargar un video desde un fichero"
   ]
  },
  {
   "cell_type": "markdown",
   "id": "6dc042ec",
   "metadata": {},
   "source": [
    "Al igual que la interfaz C++, la interfaz Python de opencv también ofrece la clase [`cv.VideoCapture`](https://docs.opencv.org/4.5.5/d8/dfe/classcv_1_1VideoCapture.html). Vamos cargar una fuente de vídeo desde un fichero."
   ]
  },
  {
   "cell_type": "code",
   "execution_count": 59,
   "id": "c55a1717",
   "metadata": {},
   "outputs": [],
   "source": [
    "cap = cv.VideoCapture('./campus_000_002.avi')\n",
    "if not cap.isOpened():\n",
    "    print('Error: no puede abrir el fichero de vídeo.')"
   ]
  },
  {
   "cell_type": "markdown",
   "id": "aa2a747e",
   "metadata": {},
   "source": [
    "En ese caso utilizamos un fichero, pero podemos indicar usando un número entero una cámara conectada a nuestro equipo."
   ]
  },
  {
   "cell_type": "markdown",
   "id": "269e3766",
   "metadata": {},
   "source": [
    "### Capturar una imagen desde la fuente de vídeo"
   ]
  },
  {
   "cell_type": "markdown",
   "id": "f300cb04",
   "metadata": {},
   "source": [
    "Para capturar una imagen desde la fuente de video usaremos el método [`VideoCapture.read`](https://docs.opencv.org/4.5.5/d8/dfe/classcv_1_1VideoCapture.html#a473055e77dd7faa4d26d686226b292c1). Este método devuelve dos valores: un valor lógico indicándo si se pudo capturar y la imagen capturada."
   ]
  },
  {
   "cell_type": "code",
   "execution_count": 60,
   "id": "5d26def8",
   "metadata": {},
   "outputs": [],
   "source": [
    "was_ok, img = cap.read()\n",
    "if not was_ok:\n",
    "    print(\"Error: no puede leer imágenes del fichero.\")"
   ]
  },
  {
   "cell_type": "markdown",
   "id": "72b09b40",
   "metadata": {},
   "source": [
    "Vamos a visualizar la imagen capturada:"
   ]
  },
  {
   "cell_type": "code",
   "execution_count": 61,
   "id": "e964d864",
   "metadata": {},
   "outputs": [
    {
     "data": {
      "text/plain": [
       "27"
      ]
     },
     "execution_count": 61,
     "metadata": {},
     "output_type": "execute_result"
    }
   ],
   "source": [
    "cv.namedWindow('VIDEO')\n",
    "cv.imshow('VIDEO', img)\n",
    "cv.waitKey(0)"
   ]
  },
  {
   "cell_type": "markdown",
   "id": "e0474c2a",
   "metadata": {},
   "source": [
    "Vamos a visualizar el resto de imágenes del vídeo. Para ello usaremos un bucle `while` hasta que no se capturen más imágenes (el video terminó) o se pulse la tecla 'ESC'. Recuerda que `cv.waitKey` retorna el código ascci en los 8 bits menos significativos y por eso se enmascaran con `0xff`."
   ]
  },
  {
   "cell_type": "code",
   "execution_count": 62,
   "id": "2e0c9a2d",
   "metadata": {},
   "outputs": [
    {
     "data": {
      "text/plain": [
       "-1"
      ]
     },
     "execution_count": 62,
     "metadata": {},
     "output_type": "execute_result"
    }
   ],
   "source": [
    "key = 0\n",
    "while was_ok and key != 27:\n",
    "    cv.imshow('VIDEO', img)\n",
    "    key = cv.waitKey(33) & 0xff #33 miliseconds approx 30 FPS\n",
    "    was_ok, img = cap.read()\n",
    "cv.destroyWindow('VIDEO')\n",
    "cv.waitKey(10)"
   ]
  },
  {
   "cell_type": "markdown",
   "id": "dd52751b",
   "metadata": {},
   "source": [
    "## Obtener estadísticos de la image"
   ]
  },
  {
   "cell_type": "markdown",
   "id": "f73bbc01",
   "metadata": {},
   "source": [
    "### Acceder a los pixeles de la imagen"
   ]
  },
  {
   "cell_type": "markdown",
   "id": "8f051359",
   "metadata": {},
   "source": [
    "Podemos acceder a los valores (de los píxeles) de imagen. Recuerda que en python usamos objetos de la clase `numpy.ndarray` y por tanto debemos utilizar sus métodos para acceder a los valores."
   ]
  },
  {
   "cell_type": "markdown",
   "id": "fcd412f1",
   "metadata": {},
   "source": [
    " Por ejemplo vamos a leer el valor del pixel central de una imagen. Para ello cargamos la imagen y con el atributo `shape` del objeto `ndarray` que obtenemos al cargar la imagen podemos calcular las coordenadas $(x,y)$ del pixel central."
   ]
  },
  {
   "cell_type": "code",
   "execution_count": 63,
   "id": "549c39db",
   "metadata": {},
   "outputs": [
    {
     "name": "stdout",
     "output_type": "stream",
     "text": [
      "El pixel central tiene los valores:  [145 127   0]\n"
     ]
    }
   ],
   "source": [
    "img = cv.imread('./ciclista_original.jpg')\n",
    "y_center = img.shape[0] // 2\n",
    "x_center = img.shape[1] // 2\n",
    "print(\"El pixel central tiene los valores: \", img[y_center,x_center])"
   ]
  },
  {
   "cell_type": "markdown",
   "id": "abf99894",
   "metadata": {},
   "source": [
    "Observa que obtenemos tres valores lo que indica que la imagen está en color."
   ]
  },
  {
   "cell_type": "markdown",
   "id": "43d1a379",
   "metadata": {},
   "source": [
    "Podemos obtener todos los píxeles de la fila `y_central`"
   ]
  },
  {
   "cell_type": "code",
   "execution_count": 64,
   "id": "b10f5e56",
   "metadata": {},
   "outputs": [
    {
     "name": "stdout",
     "output_type": "stream",
     "text": [
      "Fila central [[103 173 233]\n",
      " [102 171 228]\n",
      " [104 170 221]\n",
      " ...\n",
      " [ 11  26  29]\n",
      " [ 23  35  41]\n",
      " [ 31  41  48]]\n"
     ]
    }
   ],
   "source": [
    "print('Fila central', img[y_center])"
   ]
  },
  {
   "cell_type": "markdown",
   "id": "909a9bdc",
   "metadata": {},
   "source": [
    "o todos los píxeles de la columna central:"
   ]
  },
  {
   "cell_type": "code",
   "execution_count": 65,
   "id": "6b318868",
   "metadata": {},
   "outputs": [
    {
     "name": "stdout",
     "output_type": "stream",
     "text": [
      "Columna central:  [[232 202 167]\n",
      " [233 203 168]\n",
      " [232 204 170]\n",
      " ...\n",
      " [158 213 234]\n",
      " [166 217 237]\n",
      " [167 217 237]]\n"
     ]
    }
   ],
   "source": [
    "print('Columna central: ', img[:, x_center])"
   ]
  },
  {
   "cell_type": "markdown",
   "id": "6b714196",
   "metadata": {},
   "source": [
    "o los valores de una región 3x3 centrada en el pixel central"
   ]
  },
  {
   "cell_type": "code",
   "execution_count": 66,
   "id": "0d732160",
   "metadata": {},
   "outputs": [
    {
     "name": "stdout",
     "output_type": "stream",
     "text": [
      "Valores 3x3 centrales:  [[[149 128  19]\n",
      "  [148 132   0]\n",
      "  [148 134   0]]\n",
      "\n",
      " [[138 117   2]\n",
      "  [145 127   0]\n",
      "  [149 135   0]]\n",
      "\n",
      " [[137 119   0]\n",
      "  [152 132   7]\n",
      "  [148 132   2]]]\n"
     ]
    }
   ],
   "source": [
    "print('Valores 3x3 centrales: ', img[y_center-1:y_center+2, x_center-1:x_center+2])"
   ]
  },
  {
   "cell_type": "markdown",
   "id": "ab7cf751",
   "metadata": {},
   "source": [
    "o los valores del canal 0:"
   ]
  },
  {
   "cell_type": "code",
   "execution_count": 67,
   "id": "a2daf6a0",
   "metadata": {},
   "outputs": [
    {
     "name": "stdout",
     "output_type": "stream",
     "text": [
      "Canal 0 [[241 241 243 ... 229 229 229]\n",
      " [241 241 243 ... 229 229 229]\n",
      " [239 239 241 ... 229 229 229]\n",
      " ...\n",
      " [ 19  51  31 ... 122 131 143]\n",
      " [ 73  23   1 ... 111 139 159]\n",
      " [ 22   0   2 ... 111 137 160]]\n"
     ]
    }
   ],
   "source": [
    "print('Canal 0', img[:,:,0])"
   ]
  },
  {
   "cell_type": "markdown",
   "id": "0febf7f2",
   "metadata": {},
   "source": [
    "### Recorrer una imagen"
   ]
  },
  {
   "cell_type": "markdown",
   "id": "8883d32c",
   "metadata": {},
   "source": [
    "Podemos recorrer una imagen por filas y por columnas para procesarla. En nuestro caso vamos a calcular la media y la varianza del canal 0."
   ]
  },
  {
   "cell_type": "code",
   "execution_count": 68,
   "id": "b4f1d041",
   "metadata": {},
   "outputs": [
    {
     "name": "stdout",
     "output_type": "stream",
     "text": [
      "La media es:  96.62623059447179\n",
      "La desviación es:  80.94120284086333\n"
     ]
    }
   ],
   "source": [
    "m = 0.0\n",
    "import numpy as np\n",
    "dev = 0.0\n",
    "for y in range(img.shape[0]):\n",
    "    for x in range(img.shape[1]):\n",
    "        v = float(img[y, x, 0]) #Observa que solo queremos el canal 0.\n",
    "        m += v\n",
    "        dev += v*v\n",
    "m = m / (img.shape[0]*img.shape[1])\n",
    "dev = np.sqrt(dev / (img.shape[0]*img.shape[1]) - m*m)\n",
    "print('La media es: ', m)\n",
    "print('La desviación es: ', dev)"
   ]
  },
  {
   "cell_type": "markdown",
   "id": "37a38826",
   "metadata": {},
   "source": [
    "### Código vectorizado"
   ]
  },
  {
   "cell_type": "markdown",
   "id": "c4a96d63",
   "metadata": {},
   "source": [
    "Al igual que ocurre con C++, si es posible vamos a no utilizar recorridos de la imagen y utilizar funciones de opencv aplicadas sobre las imágenes. También podemos utilizar las funciones que la librería `numpy` proporciona para procesar un `ndarray`."
   ]
  },
  {
   "cell_type": "markdown",
   "id": "ba93e062",
   "metadata": {},
   "source": [
    "Vamos a calcular la media y desviación con opencv. Para ello vamos a utilizar la función [`cv.sumElems`](https://docs.opencv.org/4.5.5/d2/de8/group__core__array.html#ga716e10a2dd9e228e4d3c95818f106722) que devuelve la suma de todos los valores por canal. Para sumar los valores al cuadrado, multiplicamos la imagen por sí misma con la función [`cv.multiply`](https://docs.opencv.org/4.5.5/d2/de8/group__core__array.html#ga979d898a58d7f61c53003e162e7ad89f), pero en convirtiéndola a flotante para impedir la saturación de valores bytes. Para esto usamos el método [`ndarray.astype()`](https://numpy.org/doc/stable/reference/generated/numpy.ndarray.astype.html)."
   ]
  },
  {
   "cell_type": "code",
   "execution_count": 69,
   "id": "f4b4d246",
   "metadata": {},
   "outputs": [
    {
     "name": "stdout",
     "output_type": "stream",
     "text": [
      "La media es:  96.62623059447179\n",
      "La desviación es:  80.94120284086333\n"
     ]
    }
   ],
   "source": [
    "m = cv.sumElems(img)[0]\n",
    "dev = cv.sumElems(cv.multiply(img.astype(np.float32), img.astype(np.float32)))[0]\n",
    "# Observa que convertimos a formato float para evitar overflow al multiplicar\n",
    "# byte * byte\n",
    "m = m / (img.shape[0]*img.shape[1])\n",
    "dev = np.sqrt(dev / (img.shape[0]*img.shape[1]) - m*m)\n",
    "print('La media es: ', m)\n",
    "print('La desviación es: ', dev)"
   ]
  },
  {
   "cell_type": "markdown",
   "id": "14b65926",
   "metadata": {},
   "source": [
    "o mejor aún, utilizar la función opencv [`meanStDev`](https://docs.opencv.org/4.5.5/d2/de8/group__core__array.html#ga846c858f4004d59493d7c6a4354b301d) que calcula la media y la desviación por canal (nostros queremos los valores del canal 0)."
   ]
  },
  {
   "cell_type": "code",
   "execution_count": 70,
   "id": "1c3e2839",
   "metadata": {},
   "outputs": [
    {
     "name": "stdout",
     "output_type": "stream",
     "text": [
      "La media es:  [96.62623059]\n",
      "La desviación es:  [80.94120284]\n"
     ]
    }
   ],
   "source": [
    "m, dev = cv.meanStdDev(img)\n",
    "print('La media es: ', m[0])\n",
    "print('La desviación es: ', dev[0])"
   ]
  },
  {
   "cell_type": "markdown",
   "id": "8b62ee91",
   "metadata": {},
   "source": [
    "## Buscar los valores máximo y mínimo y su localización en una imagen"
   ]
  },
  {
   "cell_type": "markdown",
   "id": "0adddfcd",
   "metadata": {},
   "source": [
    "Te dejo como ejercicio implementar dos formas de obtener de buscar la primera ocurrencia de los valores máximos y mínimos en una imagen. Para simplificar asume que la imagen solo tiene un canal."
   ]
  },
  {
   "cell_type": "markdown",
   "id": "436e17b7",
   "metadata": {},
   "source": [
    "### Versión 1. Recorriendo la imagen por filas y columnas"
   ]
  },
  {
   "cell_type": "code",
   "execution_count": 71,
   "id": "cadb0a58",
   "metadata": {},
   "outputs": [
    {
     "name": "stdout",
     "output_type": "stream",
     "text": [
      "Valor mínimo 0 localizado en (0, 0)\n",
      "Valor máximo 0 localizado en (0, 0)\n"
     ]
    }
   ],
   "source": [
    "min_v = 0\n",
    "min_loc =  (0, 0) #esto es una tupla con dos valores x,y\n",
    "max_v = 0\n",
    "max_loc = (0, 0) #esto es una tupla con dos valores x,y\n",
    "\n",
    "img = cv.imread('avion.png', cv.IMREAD_ANYCOLOR)\n",
    "\n",
    "# Pon aquí tu código.\n",
    "#\n",
    "\n",
    "\n",
    "#\n",
    "\n",
    "print(f'Valor mínimo {min_v} localizado en {min_loc}')\n",
    "print(f'Valor máximo {max_v} localizado en {max_loc}')\n"
   ]
  },
  {
   "cell_type": "markdown",
   "id": "4cd4c886",
   "metadata": {},
   "source": [
    "### Versión 2. Usando código vectorizado"
   ]
  },
  {
   "cell_type": "code",
   "execution_count": 72,
   "id": "5b9b9f9b",
   "metadata": {},
   "outputs": [
    {
     "name": "stdout",
     "output_type": "stream",
     "text": [
      "Valor mínimo 0 localizado en (0, 0)\n",
      "Valor máximo 0 localizado en (0, 0)\n"
     ]
    }
   ],
   "source": [
    "min_v = 0\n",
    "min_loc =  (0, 0) #esto es una tupla con dos valores x,y\n",
    "max_v = 0\n",
    "max_loc = (0, 0) #esto es una tupla con dos valores x,y\n",
    "\n",
    "img = cv.imread('avion.png', cv.IMREAD_ANYCOLOR)\n",
    "\n",
    "# Pon aquí tu código.\n",
    "# Sugerencia: utiliza la función cv.minMaxLoc de opencv.\n",
    "\n",
    "\n",
    "#\n",
    "\n",
    "print(f'Valor mínimo {min_v} localizado en {min_loc}')\n",
    "print(f'Valor máximo {max_v} localizado en {max_loc}')\n"
   ]
  }
 ],
 "metadata": {
  "kernelspec": {
   "display_name": "Python 3",
   "language": "python",
   "name": "python3"
  },
  "language_info": {
   "codemirror_mode": {
    "name": "ipython",
    "version": 3
   },
   "file_extension": ".py",
   "mimetype": "text/x-python",
   "name": "python",
   "nbconvert_exporter": "python",
   "pygments_lexer": "ipython3",
   "version": "3.9.2"
  }
 },
 "nbformat": 4,
 "nbformat_minor": 5
}
